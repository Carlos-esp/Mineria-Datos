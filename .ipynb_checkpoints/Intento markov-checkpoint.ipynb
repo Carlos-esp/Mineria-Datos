{
 "cells": [
  {
   "cell_type": "code",
   "execution_count": 4,
   "metadata": {},
   "outputs": [
    {
     "name": "stdout",
     "output_type": "stream",
     "text": [
      "hola\n"
     ]
    }
   ],
   "source": [
    "print('hola')"
   ]
  },
  {
   "cell_type": "code",
   "execution_count": 52,
   "metadata": {},
   "outputs": [
    {
     "name": "stdout",
     "output_type": "stream",
     "text": [
      "Ingrese numero de juegos a jugar\n",
      "None6\n",
      "0.0\n"
     ]
    }
   ],
   "source": [
    "from random import randint, uniform, random\n",
    "x=2\n",
    "juego=int(input(print('Ingrese numero de juegos a jugar')))\n",
    "for i in range(0,juego):\n",
    "    moneda=randint(0,1)\n",
    "    if moneda==0:\n",
    "        x=x*2\n",
    "        if x==8:\n",
    "            i=juego\n",
    "    else:\n",
    "        x=x/2\n",
    "        if x==1:\n",
    "            x=0\n",
    "print(x)"
   ]
  }
 ],
 "metadata": {
  "kernelspec": {
   "display_name": "Python 3",
   "language": "python",
   "name": "python3"
  },
  "language_info": {
   "codemirror_mode": {
    "name": "ipython",
    "version": 3
   },
   "file_extension": ".py",
   "mimetype": "text/x-python",
   "name": "python",
   "nbconvert_exporter": "python",
   "pygments_lexer": "ipython3",
   "version": "3.7.4"
  }
 },
 "nbformat": 4,
 "nbformat_minor": 2
}
