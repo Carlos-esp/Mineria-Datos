{
 "cells": [
  {
   "cell_type": "markdown",
   "metadata": {},
   "source": [
    "# Examen 2: Ejercicios de Python.\n"
   ]
  },
  {
   "cell_type": "markdown",
   "metadata": {},
   "source": [
    "Al momento de responder las preguntas, cerciorense de que les imprima el resultado. "
   ]
  },
  {
   "cell_type": "markdown",
   "metadata": {},
   "source": [
    "### 1.- Dando lista A = [3, 2, 7, 4, 12, 9, 6, 1] desarrolla los siguientes 3 ejercicios.\n",
    "\n",
    "- Imprime la sumatoria de todos los elementos.\n",
    "- Ordenalos de mayor a menor.\n",
    "- Haz una nueva lista pero solo con sus elementos pares."
   ]
  },
  {
   "cell_type": "code",
   "execution_count": 3,
   "metadata": {},
   "outputs": [
    {
     "name": "stdout",
     "output_type": "stream",
     "text": [
      "44\n"
     ]
    }
   ],
   "source": [
    "#(Puntos 5)\n",
    "# Imprime la sumatoria de todos los elementos en a = [3, 2, 7, 4, 12, 9, 6, 1].\n",
    "a = [3, 2, 7, 4, 12, 9, 6, 1]\n",
    "suma=sum(a)\n",
    "print(suma)\n"
   ]
  },
  {
   "cell_type": "code",
   "execution_count": 8,
   "metadata": {},
   "outputs": [
    {
     "data": {
      "text/plain": [
       "[12, 9, 7, 6, 4, 3, 2, 1]"
      ]
     },
     "execution_count": 8,
     "metadata": {},
     "output_type": "execute_result"
    }
   ],
   "source": [
    "#(Puntos 10)\n",
    "# Ordenalos de mayor a menor\n",
    "sorted(a,reverse=True)"
   ]
  },
  {
   "cell_type": "code",
   "execution_count": 10,
   "metadata": {},
   "outputs": [
    {
     "data": {
      "text/plain": [
       "[2, 4, 12, 6]"
      ]
     },
     "execution_count": 10,
     "metadata": {},
     "output_type": "execute_result"
    }
   ],
   "source": [
    "#(Puntos 10)\n",
    "# Haz una nueva lista pero solo con sus elementos pares\n",
    "nlista=[]\n",
    "for nm in a:\n",
    "    if nm%2==0:\n",
    "        nlista.append(nm)\n",
    "nlista"
   ]
  },
  {
   "cell_type": "markdown",
   "metadata": {},
   "source": [
    "### 2.- Dale valor a dos variables y realiza 5 funciones que regresen como resultado diferentes operaciones aritmeticas (suma, resta, etc...). "
   ]
  },
  {
   "cell_type": "code",
   "execution_count": 15,
   "metadata": {},
   "outputs": [
    {
     "name": "stdout",
     "output_type": "stream",
     "text": [
      "12.5\n",
      "8.5\n",
      "21.0\n",
      "5.0\n",
      "110.25\n"
     ]
    }
   ],
   "source": [
    "#(Puntos 15)\n",
    "x=10.5\n",
    "y=2\n",
    "\n",
    "def suma(x,y):\n",
    "    return x+y\n",
    "def resta(x,y):\n",
    "    return x-y\n",
    "def mult(x,y):\n",
    "    return x*y\n",
    "def div_ent(x,y):\n",
    "    return x//y\n",
    "def pot(x,y):\n",
    "    return x**y\n",
    "\n",
    "print(suma(x,y))\n",
    "print(resta(x,y))\n",
    "print(mult(x,y))\n",
    "print(div_ent(x,y))\n",
    "print(pot(x,y))"
   ]
  },
  {
   "cell_type": "markdown",
   "metadata": {},
   "source": [
    "### 3.- Dada la lista A = [3, 2, 7, 4, 12, 9, 6, 1] y lista B = [13, 16, 21, 34, 18, 17, 11, 10] crea una lista nueva que contenga solo los datos impares de ambas listas."
   ]
  },
  {
   "cell_type": "code",
   "execution_count": 19,
   "metadata": {},
   "outputs": [
    {
     "data": {
      "text/plain": [
       "[3, 7, 9, 1, 13, 21, 17, 11]"
      ]
     },
     "execution_count": 19,
     "metadata": {},
     "output_type": "execute_result"
    }
   ],
   "source": [
    "#(Puntos 15)\n",
    "A = [3, 2, 7, 4, 12, 9, 6, 1]\n",
    "B = [13, 16, 21, 34, 18, 17, 11, 10]\n",
    "nueva_list=[]\n",
    "for elem in A:\n",
    "    if elem%2 !=0:\n",
    "        nueva_list.append(elem)\n",
    "        \n",
    "for elem2 in B:\n",
    "    if elem2%2!=0:\n",
    "        nueva_list.append(elem2)\n",
    "    \n",
    "nueva_list"
   ]
  },
  {
   "cell_type": "markdown",
   "metadata": {},
   "source": [
    "### 4.- Dadas las variables W = 11, X = 17, Y = 32, Z = 65, crea una función que clasifique por grupos de edad (niño, adolecente, adulto, adulto mayor. (Utiliza el elif)"
   ]
  },
  {
   "cell_type": "code",
   "execution_count": 29,
   "metadata": {},
   "outputs": [
    {
     "name": "stdout",
     "output_type": "stream",
     "text": [
      "11\n",
      "Grupo de edad: niño\n",
      "17\n",
      "Grupo de edad: adolescente\n",
      "32\n",
      "Grupo de edad: adulto\n",
      "65\n",
      "Grupo de edad: adulto mayor\n"
     ]
    }
   ],
   "source": [
    "#(Puntos 15)\n",
    "W = 11\n",
    "X = 17\n",
    "Y = 32\n",
    "Z = 65\n",
    "\n",
    "\n",
    "def clasif_edad(edad):\n",
    "    if edad<=12:\n",
    "        print(\"Grupo de edad: niño\")\n",
    "    elif 12<edad<=21:\n",
    "        print(\"Grupo de edad: adolescente\")\n",
    "    elif 21<edad<=60:\n",
    "        print(\"Grupo de edad: adulto\")\n",
    "    elif 60<edad:\n",
    "        print(\"Grupo de edad: adulto mayor\")\n",
    "        \n",
    "edades=(W,X,Y,Z)\n",
    "for ed in edades:\n",
    "    print(ed)\n",
    "    clasif_edad(ed)\n"
   ]
  },
  {
   "cell_type": "markdown",
   "metadata": {},
   "source": [
    "### 5.- Utilizando cualquiera de las condicionales (for, if, while...) imprime los siguientes patrones tal y como aparecen en el comentario, respetando los espacios y los saltos de renglon.\n"
   ]
  },
  {
   "cell_type": "code",
   "execution_count": 114,
   "metadata": {},
   "outputs": [
    {
     "name": "stdout",
     "output_type": "stream",
     "text": [
      "\n",
      "#1 \n",
      "#2 2 \n",
      "#3 3 3 \n",
      "#4 4 4 4 \n",
      "#5 5 5 5 5 \n"
     ]
    }
   ],
   "source": [
    "#(Puntos 10)\n",
    "#1 \n",
    "#2 2\n",
    "#3 3 3\n",
    "#4 4 4 4\n",
    "#5 5 5 5 5\n",
    "lim=5\n",
    "\n",
    "for i in range(lim+1):\n",
    "    if i>0:\n",
    "        for j in range(i):\n",
    "            if j==0:\n",
    "                print('#'+str(i), end=' ')\n",
    "            else:\n",
    "                print(i,end=' ')\n",
    "    print('')"
   ]
  },
  {
   "cell_type": "code",
   "execution_count": 96,
   "metadata": {},
   "outputs": [
    {
     "name": "stdout",
     "output_type": "stream",
     "text": [
      "#5 4 3 2 1 \n",
      "#4 3 2 1 \n",
      "#3 2 1 \n",
      "#2 1 \n",
      "#1 \n"
     ]
    }
   ],
   "source": [
    "#(Puntos 15)\n",
    "#5 4 3 2 1 \n",
    "#4 3 2 1\n",
    "#3 2 1 \n",
    "#2 1\n",
    "#1\n",
    "\n",
    "lim=5\n",
    "i=5\n",
    "while i >0:\n",
    "    j=i\n",
    "    while j>0:\n",
    "        if j==i:\n",
    "            print('#'+str(i),end=' ')\n",
    "        j=j-1\n",
    "        if j!=0:\n",
    "            print(j,end=' ')\n",
    "    print('')\n",
    "    i=i-1\n",
    "    "
   ]
  },
  {
   "cell_type": "markdown",
   "metadata": {},
   "source": [
    "### 6.- Con la lista A = [3, 2, 7, 4, 12, 9, 6, 1] y el uso de condicionales, imprime una nueva lista con cada uno de los elementos de la lista A, al cuadrado."
   ]
  },
  {
   "cell_type": "code",
   "execution_count": 91,
   "metadata": {},
   "outputs": [
    {
     "name": "stdout",
     "output_type": "stream",
     "text": [
      "[9, 4, 49, 16, 144, 81, 36, 1]\n",
      "[9, 4, 49, 16, 144, 81, 36, 1]\n"
     ]
    }
   ],
   "source": [
    "#(Puntos 10)\n",
    "A = [3, 2, 7, 4, 12, 9, 6, 1]\n",
    "new_list=[]\n",
    "for el in A:\n",
    "    new_list.append(el**2)\n",
    "    \n",
    "print(new_list)\n",
    "\n",
    "#Otra forma\n",
    "new_l=[num**2 for num in A]\n",
    "print(new_l)"
   ]
  },
  {
   "cell_type": "markdown",
   "metadata": {},
   "source": [
    "### (Extra puntos 5.) \n",
    "\n",
    "Conteste los tres puntos para obtener la totalidad de los puntos.\n",
    "*Mencione al menos 3 palabras reservadas para el lenguaje de programación de Python.\n",
    "*Describa la diferencia principal entre las listas y las tuplas en Python.\n",
    "*Describa para que sirve el condicional ELIF.\n"
   ]
  },
  {
   "cell_type": "markdown",
   "metadata": {},
   "source": [
    "##### Respuestas a puntos extra\n",
    "___\n",
    "___\n",
    "1. Palabras reservadas para Python: \n",
    "    + if \n",
    "    + for\n",
    "    + in\n",
    "    \n",
    "    \n",
    "2. Diferencia principal entre listas y tuplas en Python:\n",
    "    + La diferencia es que las listas son modificables y las tuplas no.\n",
    "    \n",
    "    \n",
    "3. Descripción del uso del condicional ELIF:\n",
    "    + Sirve para hacer if's anidados, es una forma de ahorrar un poco de tiempo para no estar escribiendo else if."
   ]
  }
 ],
 "metadata": {
  "kernelspec": {
   "display_name": "Python 3",
   "language": "python",
   "name": "python3"
  },
  "language_info": {
   "codemirror_mode": {
    "name": "ipython",
    "version": 3
   },
   "file_extension": ".py",
   "mimetype": "text/x-python",
   "name": "python",
   "nbconvert_exporter": "python",
   "pygments_lexer": "ipython3",
   "version": "3.7.4"
  }
 },
 "nbformat": 4,
 "nbformat_minor": 2
}
